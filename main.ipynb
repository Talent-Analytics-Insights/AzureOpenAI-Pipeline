{
 "cells": [
  {
   "cell_type": "code",
   "execution_count": null,
   "metadata": {},
   "outputs": [],
   "source": [
    "import os\n",
    "import re\n",
    "import openai"
   ]
  },
  {
   "cell_type": "code",
   "execution_count": null,
   "metadata": {},
   "outputs": [],
   "source": [
    "# Define Azure endpoints (or OpenAI endpoints if using OpenAI directly)\n",
    "AZURE_ORGANIZATION = \"Your Azure Organization\"\n",
    "\n",
    "# Change the base to your region\n",
    "openai.api_type = \"azure\"\n",
    "openai.api_base = f\"https://{AZURE_ORGANIZATION}-uk-south.openai.azure.com/\"\n",
    "openai.api_version = \"2023-07-01-preview\""
   ]
  },
  {
   "cell_type": "code",
   "execution_count": null,
   "metadata": {},
   "outputs": [],
   "source": [
    "def set_openai_uk():\n",
    "    # Switch current resource to UK\n",
    "    openai.api_base = f\"https://{AZURE_ORGANIZATION}-uk-south.openai.azure.com/\"\n",
    "    openai.api_key = os.getenv(\"OPENAI_KEY_UK\")\n",
    "    print(\"OPENAI Key set to UK\")\n",
    "\n",
    "    \n",
    "def set_openai_fr():\n",
    "    # Switch current resource to FR\n",
    "    openai.api_base = f\"https://{AZURE_ORGANIZATION}-france-central.openai.azure.com/\"\n",
    "    openai.api_key = os.getenv(\"OPENAI_KEY_FR\")\n",
    "    print(\"OPENAI Key set to FR\")\n",
    "\n",
    "    \n",
    "def set_openai_sw():\n",
    "    # Switch current resource to SW\n",
    "    openai.api_base = f\"https://{AZURE_ORGANIZATION}-sweden.openai.azure.com/\"\n",
    "    openai.api_key = os.getenv(\"OPENAI_KEY_SW\")\n",
    "    print(\"OPENAI Key set to SW\")\n",
    "    \n",
    "def resource_switcher():\n",
    "    \"\"\"Generator that switches between the available Azure OpenAI resources\n",
    "    \"\"\"\n",
    "    i = 0\n",
    "    # Define possible resources\n",
    "    # Include one function (as above) for each available resource\n",
    "    resources = [set_openai_uk, set_openai_sw, set_openai_fr]\n",
    "\n",
    "    while True:\n",
    "        # Switch the resource by calling one of the functions defined\n",
    "        yield resources[i]()\n",
    "        # Move pointer to the next resource, or back to the first if the last is reached\n",
    "        i += 1\n",
    "        if i == 3:\n",
    "            i = 0"
   ]
  },
  {
   "cell_type": "code",
   "execution_count": null,
   "metadata": {},
   "outputs": [],
   "source": [
    "prompt = \"Your Prompt Here\"\n",
    "load_bearer = resource_switcher()\n",
    "\n",
    "prompt_done = False\n",
    "\n",
    "conversation = [{\"role\": \"user\", \"content\": prompt}]\n",
    "output = None\n",
    "\n",
    "number_of_retries = 0\n",
    "max_number_of_retries = 3\n",
    "\n",
    "while not prompt_done:\n",
    "    try:\n",
    "        # Call API with prompts and settings\n",
    "        response = openai.ChatCompletion.create(\n",
    "        engine=\"gpt_4\",\n",
    "        messages = conversation)\n",
    "\n",
    "        # Get response with highest confidence (first one)\n",
    "        output = response['choices'][0]['message']['content']\n",
    "        \n",
    "        # Example condition for prompt success\n",
    "        example_condition = len(output) > 100\n",
    "        \n",
    "        if number_of_retries < max_number_of_retries:\n",
    "            assert example_condition\n",
    "        \n",
    "        # Tip: Ask output to be generated as python dictionary, extract only the dictionary from the response\n",
    "        result = eval(re.findall(r'{[^{}]*}', output)[0])\n",
    "        prompt_done = True\n",
    "\n",
    "    # Prompt has succeeded, but output does not meet condition\n",
    "    except AssertionError as e:\n",
    "        conversation.append({'role': 'assistant', 'content': output})\n",
    "        conversation.append({'role': 'user', 'content': 'Provide an answer with at least a hundred characters.'})\n",
    "        number_of_retries += 1\n",
    "        \n",
    "    # If prompt fails, try again with different resource\n",
    "    except Exception as e:      \n",
    "        next(load_bearer)\n",
    "        print(f\"Prompt Failed: {e}, switching resource to {openai.api_base}\")\n",
    "        number_of_retries += 1\n",
    "        prompt_done = number_of_retries == max_number_of_retries\n",
    "        \n",
    "print(result)"
   ]
  }
 ],
 "metadata": {
  "kernelspec": {
   "display_name": "Python 3 (ipykernel)",
   "language": "python",
   "name": "python3"
  },
  "language_info": {
   "codemirror_mode": {
    "name": "ipython",
    "version": 3
   },
   "file_extension": ".py",
   "mimetype": "text/x-python",
   "name": "python",
   "nbconvert_exporter": "python",
   "pygments_lexer": "ipython3",
   "version": "3.9.13"
  }
 },
 "nbformat": 4,
 "nbformat_minor": 4
}
